{
 "cells": [
  {
   "cell_type": "code",
   "execution_count": 2,
   "metadata": {},
   "outputs": [],
   "source": [
    "import cv2"
   ]
  },
  {
   "cell_type": "code",
   "execution_count": 3,
   "metadata": {},
   "outputs": [],
   "source": [
    "import numpy as np"
   ]
  },
  {
   "cell_type": "code",
   "execution_count": 4,
   "metadata": {},
   "outputs": [],
   "source": [
    "import pyrealsense2 as rs"
   ]
  },
  {
   "cell_type": "code",
   "execution_count": 7,
   "metadata": {},
   "outputs": [],
   "source": [
    "import time"
   ]
  },
  {
   "cell_type": "code",
   "execution_count": 19,
   "metadata": {},
   "outputs": [],
   "source": [
    "# Configure streams\n",
    "pipeline = rs.pipeline()\n",
    "config = rs.config()\n",
    "config.enable_stream(rs.stream.depth, 1280, 720, rs.format.z16, 30)\n",
    "config.enable_stream(rs.stream.color, 1280, 720, rs.format.bgr8, 30)\n",
    "config.enable_stream(rs.stream.infrared,1280, 720, rs.format.bgr8, 30)\n",
    "\n",
    "# Start streaming\n",
    "pipeline.start(config)\n",
    "dirname = 'D:\\\\20180626_test'\n",
    "lastTime = 0\n",
    "startTime = time.time()\n",
    "c = 0\n",
    "try:\n",
    "    while True:\n",
    "\n",
    "        # Wait for a coherent pair of frames: depth and color…infraredの処理適当\n",
    "        frames = pipeline.wait_for_frames()\n",
    "        depth_frame = frames.get_depth_frame()\n",
    "        color_frame = frames.get_color_frame()\n",
    "        ir = frames.first(rs.stream.infrared)\n",
    "        if not depth_frame or not color_frame:\n",
    "            continue\n",
    "\n",
    "        # Convert images to numpy arrays\n",
    "        depth_image = np.asanyarray(depth_frame.get_data())\n",
    "        color_image = np.asanyarray(color_frame.get_data())\n",
    "        ir_image = np.asanyarray(ir.get_data())\n",
    "        \n",
    "        nowTime = time.time()\n",
    "        \n",
    "        if nowTime - lastTime > 60 * 2:\n",
    "            # csvファイルを保存する\n",
    "            np.savetxt(dirname + '/depth_'+'{0:04d}'.format(c)+'.csv',depth_image,delimiter=',')\n",
    "            #np.savetxt(dirname + '/color_b'+'{0:04d}'.format(c)+'.csv',color_image[:,:,0],delimiter=',')\n",
    "            #np.savetxt(dirname + '/color_r'+'{0:04d}'.format(c)+'.csv',color_image[:,:,1],delimiter=',')\n",
    "            #np.savetxt(dirname + '/color_g'+'{0:04d}'.format(c)+'.csv',color_image[:,:,2],delimiter=',')\n",
    "            #print(ir_image.shape)\n",
    "            #np.savetxt(dirname + '/ir_image_0'+'{0:04d}'.format(c)+'.csv',ir_image[:,:,0],delimiter=',')\n",
    "            #np.savetxt(dirname + '/ir_image_1'+'{0:04d}'.format(c)+'.csv',ir_image[:,:,1],delimiter=',')\n",
    "            # Apply colormap on depth image (image must be converted to 8-bit per pixel first)\n",
    "            #depth_colormap = cv2.applyColorMap(cv2.convertScaleAbs(depth_image, alpha=0.03), cv2.COLORMAP_JET)\n",
    "            #jpgファイルを保存する\n",
    "            #cv2.imwrite(dirname + '/depth_'+'{0:04d}'.format(c)+'.jpg',depth_image)\n",
    "            cv2.imwrite(dirname + '/color'+'{0:04d}'.format(c)+'.jpg',color_image)\n",
    "            cv2.imwrite(dirname + '/ir_image'+'{0:04d}'.format(c)+'.jpg',ir_image)\n",
    "            c += 1\n",
    "            lastTime = time.time()\n",
    "        if (nowTime-startTime) > 60 * 60 * 15 :\n",
    "            break\n",
    "#images = np.hstack((ir_image))\n",
    "        \n",
    "#        images = (ir_image)[:,::3]\n",
    "#         print(images.shape)\n",
    "#         images = cv2.bitwise_not(images)\n",
    "        \n",
    "#         plt.hist(images.ravel(),256,[0,256])\n",
    "#         plt.show()\n",
    "        \n",
    "        # plt.imshow(images)\n",
    "        # Show images\n",
    "        #cv2.namedWindow('RealSense1', cv2.WINDOW_AUTOSIZE)\n",
    "        #cv2.imshow('RealSense1', ir_image)\n",
    "        #cv2.namedWindow('RealSense2', cv2.WINDOW_AUTOSIZE)\n",
    "        #cv2.imshow('RealSense2', depth_colormap)\n",
    "        #cv2.waitKey(1)\n",
    "\n",
    "finally:\n",
    "\n",
    "    # Stop streaming\n",
    "    pipeline.stop()"
   ]
  },
  {
   "cell_type": "code",
   "execution_count": null,
   "metadata": {},
   "outputs": [],
   "source": []
  }
 ],
 "metadata": {
  "kernelspec": {
   "display_name": "Python 3",
   "language": "python",
   "name": "python3"
  },
  "language_info": {
   "codemirror_mode": {
    "name": "ipython",
    "version": 3
   },
   "file_extension": ".py",
   "mimetype": "text/x-python",
   "name": "python",
   "nbconvert_exporter": "python",
   "pygments_lexer": "ipython3",
   "version": "3.6.4"
  }
 },
 "nbformat": 4,
 "nbformat_minor": 2
}
